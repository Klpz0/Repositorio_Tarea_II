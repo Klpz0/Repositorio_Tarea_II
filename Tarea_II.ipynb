{
 "cells": [
  {
   "cell_type": "markdown",
   "metadata": {},
   "source": [
    "# Primera parte de la tarea II Física Computacional\n",
    "## Cuadratura gaussiana para la función sen(x^2)"
   ]
  },
  {
   "cell_type": "code",
   "execution_count": 1,
   "metadata": {},
   "outputs": [],
   "source": [
    "import numpy as np\n",
    "import matplotlib.pyplot as plt\n",
    "\n",
    "\n",
    "def gaussxw(N):\n",
    "    \"\"\"\n",
    "    Calcula los nodos y pesos para la cuadratura de Gauss-Legendre.\n",
    "\n",
    "    Args:\n",
    "        N (int): Número de nodos.\n",
    "\n",
    "    Returns:\n",
    "        tuple: Nodos (x) y pesos (w) en el intervalo [-1, 1].\n",
    "    \"\"\"\n",
    "    x, w = np.polynomial.legendre.leggauss(N)\n",
    "    return x, w"
   ]
  },
  {
   "cell_type": "code",
   "execution_count": 2,
   "metadata": {},
   "outputs": [],
   "source": [
    "def gaussxwab(a, b, x, w):\n",
    "    \"\"\"\n",
    "    Escala nodos y pesos del intervalo [-1, 1] al intervalo [a, b].\n",
    "\n",
    "    Args:\n",
    "        a (float): Límite inferior del intervalo.\n",
    "        b (float): Límite superior del intervalo.\n",
    "        x (ndarray): Nodos en [-1, 1].\n",
    "        w (ndarray): Pesos en [-1, 1].\n",
    "\n",
    "    Returns:\n",
    "        tuple: Nodos y pesos escalados al intervalo [a, b].\n",
    "    \"\"\"\n",
    "    xp = 0.5 * (b - a) * x + 0.5 * (b + a)\n",
    "    wp = 0.5 * (b - a) * w\n",
    "    return xp, wp"
   ]
  },
  {
   "cell_type": "code",
   "execution_count": 3,
   "metadata": {},
   "outputs": [],
   "source": [
    "def integrando(x):\n",
    "    \"\"\"\n",
    "    Función a integrar: sin(x^2).\n",
    "\n",
    "    Args:\n",
    "        x (float or ndarray): Punto(s) donde se evalúa.\n",
    "\n",
    "    Returns:\n",
    "        float or ndarray: Valor(es) de sin(x^2).\n",
    "    \"\"\"\n",
    "    return np.sin(x**2)"
   ]
  },
  {
   "cell_type": "code",
   "execution_count": null,
   "metadata": {},
   "outputs": [],
   "source": [
    "def main():\n",
    "    \"\"\"\n",
    "    Ejecuta la integración para varios valores de N y genera un gráfico\n",
    "    del valor de la integral en función de N.\n",
    "    \"\"\"\n",
    "    a, b = 0, np.pi\n",
    "    N_vals = range(2, 31)\n",
    "    integrales = []\n",
    "\n",
    "    for N in N_vals:\n",
    "        x, w = gaussxw(N)\n",
    "        xp, wp = gaussxwab(a, b, x, w)\n",
    "        integral = np.sum(wp * integrando(xp))\n",
    "        integrales.append(integral)\n",
    "\n",
    "    # Mostrar gráfico\n",
    "    plt.figure(dpi=100)\n",
    "    plt.plot(N_vals, integrales, marker='o')\n",
    "    plt.axhline(1.77245, color='red', linestyle='--', label=\"Referencia ~1.77245\")\n",
    "    plt.xlabel(\"N (número de nodos)\")\n",
    "    plt.ylabel(\"Valor de la integral\")\n",
    "    plt.title(\"Integral de sin(x²) con cuadratura de Gauss-Legendre\")\n",
    "    plt.grid(True)\n",
    "    plt.legend()\n",
    "    plt.tight_layout()\n",
    "    plt.show()\n",
    "\n",
    "main()"
   ]
  }
 ],
 "metadata": {
  "anaconda-cloud": {},
  "kernelspec": {
   "display_name": "Python 3 (ipykernel)",
   "language": "python",
   "name": "python3"
  },
  "language_info": {
   "codemirror_mode": {
    "name": "ipython",
    "version": 3
   },
   "file_extension": ".py",
   "mimetype": "text/x-python",
   "name": "python",
   "nbconvert_exporter": "python",
   "pygments_lexer": "ipython3",
   "version": "3.13.2"
  }
 },
 "nbformat": 4,
 "nbformat_minor": 4
}
